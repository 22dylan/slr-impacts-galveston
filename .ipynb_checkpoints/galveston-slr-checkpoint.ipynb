{
 "cells": [
  {
   "attachments": {},
   "cell_type": "markdown",
   "id": "3b4c6bfd-6416-4b06-bdc6-8788b7fef62d",
   "metadata": {},
   "source": [
    "# <center> Quantifying future local impacts of sea-level rise on buildings and infrastructure </center>\n",
    "This notebook accompanies the manuscript, \"Quantifying future local impacts of sea-level rise on buildings and infrastructure\". The notebook and accompanying python scripts perform all analyses presented in the manuscript. To reduce clutter in this notebook, python code on the backend is called. This notebook is organized as follows:\n",
    "+ [Methods](#methods) <br>\n",
    "    + [Identify future water levels (temporal)](#step1)<br>\n",
    "    + [Determine impacts of inundation on infrastructure (spatial)](#step2)<br>\n",
    "    + [Map the timing of future water levels to impacts of inundation on infrastructure](#step3)<br>\n",
    "+ [Plotting Results](#plotting)<br>\n",
    "\n",
    "\n",
    "\n",
    "The following python packages are required:\n",
    "<!-- | Stretch/Untouched |\n",
    "| :- |\n",
    "| [jupyter](https://jupyter.org/) |\n",
    "| [matplotlib](https://matplotlib.org/) |\n",
    "| [pandas](https://pandas.pydata.org/) |\n",
    "| [geopandas](https://geopandas.org/en/stable/) |\n",
    "| [numpy](https://numpy.org/) |\n",
    "| [networkx](https://networkx.org/) |\n",
    "| [pyincore](https://incore.ncsa.illinois.edu/) |\n",
    "| [noaa_coops](https://github.com/GClunies/noaa_coops) | -->\n",
    "\n",
    "\n",
    "\n",
    "+ [jupyter](https://jupyter.org/)\n",
    "+ [matplotlib](https://matplotlib.org/)\n",
    "+ [pandas](https://pandas.pydata.org/)\n",
    "+ [geopandas](https://geopandas.org/en/stable/)\n",
    "+ [numpy](https://numpy.org/)\n",
    "+ [networkx](https://networkx.org/)\n",
    "+ [pyincore](https://incore.ncsa.illinois.edu/)\n",
    "+ [noaa_coops](https://github.com/GClunies/noaa_coops) <br>\n",
    "\n",
    "Notebook and backend code written by **Dylan R. Sanderson** [dylan.sanderson@nist.gov](dylan.sanderson@nist.gov)"
   ]
  },
  {
   "cell_type": "code",
   "execution_count": null,
   "id": "708d2078-6768-4237-b2c9-d67772c55641",
   "metadata": {},
   "outputs": [],
   "source": [
    "import os\n",
    "import matplotlib.pyplot as plt\n",
    "import datetime"
   ]
  },
  {
   "attachments": {},
   "cell_type": "markdown",
   "id": "39bc0359-b497-4485-ba82-5db5296a9450",
   "metadata": {
    "jp-MarkdownHeadingCollapsed": true
   },
   "source": [
    "<a id='methods'></a>\n",
    "## <center> Methods </center>\n",
    "The figure below shows a detailed flowchart of the overall approach to assess future local impacts of SLR on buildings and infrastructure. \n",
    "There are three primary steps in the flowchart: (1) [identify future water levels (temporal)](#step1), (2) [determine impacts of inundation on infrastructure (spatial)](#step2), and (3) [map the timing of future water levels to impacts of inundation on infrastructure](#step3). This notebook is organized around these three steps.\n",
    "\n",
    "<center><img src=\"figures/fig1-flowchart.png\" width=\"70%\"/></center>"
   ]
  },
  {
   "attachments": {},
   "cell_type": "markdown",
   "id": "4b3c6b16-fb5d-46d6-bfa6-9f704c6893f2",
   "metadata": {},
   "source": [
    "<a id='step1'></a>\n",
    "## <Center> Identify Future Water Levels (Temporal) </center>\n",
    "\n",
    "The first step of the framework is to identify future water levels relative to a vertical reference datum. Total water levels at the shoreline can be defined as the sum of mean sea level, deterministic or astronomical tide, non-tidal residuals, and wave runup (Ruggiero et al., 2001). Depending on the community being considered appropriate aspects of total water level should be identified. For example, if a community is protected by a vertical sea wall, then considering wave runup may not be appropriate. When identifying the future water levels, the timeframe of analysis is also identified, e.g., 2025 to 2100. Multiple SLR scenarios should be identified in step 1 to account for uncertainty in future climate conditions. Local projections of SLR should be considered, as these can differ from global and regional projections due to factors such as vertical land motion (Sweet et al., 2022). "
   ]
  },
  {
   "attachments": {},
   "cell_type": "markdown",
   "id": "a525d00c-3729-4195-a98a-6b3cc56074ba",
   "metadata": {},
   "source": [
    "This part of the code calls on NOAA's Center for Operational Oceanographic Products and Services (CO-OPS) API to retrieve the determinsitic tide. The SLR data was obtained from the US Army Corps of Engineers Sea Level Analysis Tool (https://climate.sec.usace.army.mil/slat/). This part of the code combines the SLR projections with the deterministic tide predictions. This python class is used in the subsequent analyses."
   ]
  },
  {
   "cell_type": "code",
   "execution_count": null,
   "id": "a38804b3-bbda-4154-b966-7b74cf5faa94",
   "metadata": {},
   "outputs": [],
   "source": [
    "from backend import SLR_Api\n",
    "SLR = SLR_Api.SLR_API(\n",
    "        station_id=8771450,                      # noaa tide station id\n",
    "        scenario_names=['NOAA et al. 2022'],     # for SLR scenarios\n",
    "        begin_date='20250101',                   # start date\n",
    "        end_date='21001231',                     # end date\n",
    "        load_tides=True,                         # include tides (true/false)\n",
    "        nonexceendance_probs=[0.17, 0.5, 0.83]   # SLR percentiles\n",
    "        )"
   ]
  },
  {
   "cell_type": "markdown",
   "id": "8874c63f-5e10-4f67-aaf6-e114e3344c58",
   "metadata": {},
   "source": [
    "This part of the code plots the intermediate SLR scenario with the tide prediction. The 50th percentile is shown."
   ]
  },
  {
   "cell_type": "code",
   "execution_count": null,
   "id": "a683d340-36a0-4996-8b6c-d229edaec96e",
   "metadata": {},
   "outputs": [],
   "source": [
    "df = SLR.combined_df\n",
    "xdata = SLR.combined_df.index\n",
    "ydata_SLR = SLR.combined_df[\"SL_ft_MHHW_1.0_ne0.5\"]*0.3048\n",
    "ydata_SLR_wTide = SLR.combined_df[\"SL+Tide_ft_MHHW_1.0_ne0.5\"]*0.3048\n",
    "fig, ax = plt.subplots(1,1,figsize=(10,3))\n",
    "ax.plot(xdata, ydata_SLR_wTide, lw=0.1, c='0.8')\n",
    "ax.plot(xdata, ydata_SLR, lw=2, c='c')\n",
    "ax.set_xlim([datetime.date(2025, 1, 1), datetime.date(2100, 1, 1)])\n",
    "ax.set_title(\"Intermediate SLR Scenario - 50th percentile\")\n",
    "ax.set_ylabel(\"Water Level (m.; MHHW)\")\n",
    "ax.set_xlabel(\"Year\")"
   ]
  },
  {
   "attachments": {},
   "cell_type": "markdown",
   "id": "0e3ea089-216c-45c5-963c-556deaa0415a",
   "metadata": {},
   "source": [
    "<a id='step2'></a>\n",
    "## <center> Determine Impacts of Inundation on Infrastructure (Spatial) </center>\n",
    "\n",
    "The second step of the framework is to determine the impacts of SLR on infrastructure. This step considers the spatial extent of flooding resulting from increases in water level, but does not consider when this flooding will occur. Modeling the extent of flooding can range from static approximations to more complicated physics-based models. The former consists of bathtub models in which high water levels are overlaid on a digital elevation model to get water depths and inundation extents (e.g., NOAA, 2017). The latter consists of full physics-based models that capture hydrodynamic processes (e.g., Luettich et al., 1992). In between these two are reduced-physics models that solve simplified equations compared to their full physics-based counterparts (e.g., Leijnse et al., 2021). The framework shown in Fig. 1 can accommodate any of these approaches. <br>\n",
    "\n",
    "<center><img src=\"figures/fig1-step2.png\" width=\"60%\"/></center>\n",
    "\r\n",
    "Step 2 of the framework begins with considering an inundation footprint at 0 m. above the same vertical datum identified in Step 1. With this inundation footprint, the impacts to buildings, electric power, and transportation network are computed. Impacts to the building inventory are first determined by overlaying the inundation footprint on the building inventory. Every building in the building inventory is identified as being exposed to water or not. Exposure can be defined as either: (1) whether the water level exceeds the first-floor elevation, or (2) whether there is any standing water at the building’s location. These results are saved in a SLR impact database that will be used as a lookup table in Step 3. Impacts on the electric power system are then computed by overlaying the inundation footprint on the electric power system. Every building in the building inventory is assigned to a substation and it is assumed that if a substation is exposed, it cannot provide electricity to the buildings it services. These results are stored in the SLR impact database. Next, impacts to the transportation network are determined. The inundation footprint is first overlaid on the road and bridge transportation network to determine whether each road/bridge segment is exposed. The depth of inundation at each road segment is determined and results in either an increase in travel time along that segment, or the road segment becomes unpassable. Depth-disruption curves can be used to determine the maximum safe speed along each road segment (Pregnolato et al., 2017). Destinations in the road network are then identified and can be any point of interest in a community, such as grocery stores, libraries, schools, or medical facilities. The shortest path from every building to each destination are computed using the resulting travel times along each road segment. The travel times from each building are stored in the SLR impact database <br>\n",
    "\n",
    "\n",
    "\r\n",
    "This process is then repeated until each inundation footprint is considered. For example, the next inundation footprint could be defined as 1ft. (0.3048 m.) above the vertical reference datum. Considering all inundation footprints results in a populated database that stores the impacts of increasing water levels on each building in the community. The database considers impacts for multiple infrastructure systems, e.g., for electric power the results are whether each building has electricity, whereas for transportation, the results are travel times from each building to a specific destination. The database can then be quickly queried, rather than having to run an inundation model and determine the impacts to infrastructure. \r\n"
   ]
  },
  {
   "cell_type": "markdown",
   "id": "f376ae40-4830-42ea-899b-882ed6618abc",
   "metadata": {},
   "source": [
    "### 2a. Impacts on Building Inventory\n",
    "First, importing the building impact backend code. All functions to perform the impacts to the building inventory are in here. "
   ]
  },
  {
   "cell_type": "code",
   "execution_count": null,
   "id": "7c92b22e-de3c-450f-8091-853d9136ae71",
   "metadata": {},
   "outputs": [],
   "source": [
    "from backend import ImpactsBuilding"
   ]
  },
  {
   "cell_type": "markdown",
   "id": "f201f844-b672-42c3-9fd0-9ed8a56518c7",
   "metadata": {},
   "source": [
    "This part of the code determines the impacts on the building inventory. This loops through each inundation footprint starting with 0 ft (0m) above MHHW and ending at 10 ft (3.048m) above MHHW. \n",
    "\n",
    "<font color='red'>Note that this part of the code takes a while to run. The outputs are provided in this repository, so this cell can be skipped if desired.</font>"
   ]
  },
  {
   "cell_type": "code",
   "execution_count": null,
   "id": "0cffb470-d791-4008-a9cb-721862b5067a",
   "metadata": {},
   "outputs": [],
   "source": [
    "for slr_ft in range(0,11):\n",
    "    print(\"----------------------\")\n",
    "    print(\"SLR: {}\" .format(slr_ft))\n",
    "    BD_SLR = ImpactsBuilding.BuildingExposureSLR()\n",
    "    BD_SLR.RunBldgExposure(slr_ft=slr_ft)\n",
    "    print()"
   ]
  },
  {
   "cell_type": "markdown",
   "id": "71c03e54-efca-4666-b52e-d56bca5468fc",
   "metadata": {},
   "source": [
    "This part of the code combines the results from the above into a single CSV file, or the \"SLR impact database\". This file is used as a lookup table in later steps. The results are saved in a CSV file called ```bldg-exp-combined.csv``` located in the ```output``` subdirectory."
   ]
  },
  {
   "cell_type": "code",
   "execution_count": null,
   "id": "33542b0a-e4ed-48fb-839c-7568ad814ebd",
   "metadata": {},
   "outputs": [],
   "source": [
    "C = ImpactsBuilding.CombineBuildingExpSLR(slr_start=0, slr_end=10, save_df=True)\n"
   ]
  },
  {
   "cell_type": "markdown",
   "id": "19c2b9d4-c2c2-4052-a21d-45a786acc2ec",
   "metadata": {},
   "source": [
    "### 2b: Impacts on Electric Power System"
   ]
  },
  {
   "cell_type": "markdown",
   "id": "407f1674-3793-4f50-bed7-8ead809f835f",
   "metadata": {},
   "source": [
    "Importing the eletric impact code."
   ]
  },
  {
   "cell_type": "code",
   "execution_count": null,
   "id": "05c7ea0d-11ee-4059-a82c-f72f68329b38",
   "metadata": {},
   "outputs": [],
   "source": [
    "from backend import ImpactsElectric"
   ]
  },
  {
   "cell_type": "markdown",
   "id": "ad0380b6-efeb-4cd5-8bc8-ac28e2dafb7e",
   "metadata": {},
   "source": [
    "This part of the code loops through each inundation layer and determines electricity loss for that layer. "
   ]
  },
  {
   "cell_type": "code",
   "execution_count": null,
   "id": "4574269d-5e6b-49f6-8e9c-a898436e34ec",
   "metadata": {},
   "outputs": [],
   "source": [
    "for slr_ft in range(0,11):\n",
    "    print(\"----------------------\")\n",
    "    print(\"SLR: {}\" .format(slr_ft))\n",
    "    EL_SLR = ImpactsElectric.electricity_access()\n",
    "    EL_SLR.run_electricity_access(slr_ft=slr_ft)\n",
    "    print()"
   ]
  },
  {
   "cell_type": "markdown",
   "id": "0fd66e08-4e0c-42f1-9c56-410c04aa1dd1",
   "metadata": {},
   "source": [
    "This part of the code combines the results from above into a single CSV file, or the \"SLR impact database\". This file is used as a lookup table in later steps. The results are saved in a CSV file called ```elec-accs-combined.csv``` located in the ```output``` subdirectory."
   ]
  },
  {
   "cell_type": "code",
   "execution_count": null,
   "id": "c947cd42-5f8f-4e54-a3d3-e84fec398eb1",
   "metadata": {},
   "outputs": [],
   "source": [
    "# # combining results\n",
    "EL_SLR = ImpactsElectric.electricity_access()\n",
    "df = EL_SLR.combine_elec_access()"
   ]
  },
  {
   "cell_type": "markdown",
   "id": "5498bd1b-1d4e-4a90-9866-f5814886d551",
   "metadata": {},
   "source": [
    "### 2c: Impacts on Transportation Network"
   ]
  },
  {
   "cell_type": "markdown",
   "id": "cb1b7b07-dab5-4798-82ee-a8097aa35ac9",
   "metadata": {},
   "source": [
    "First importing the backend code for computing tranporation impacts."
   ]
  },
  {
   "cell_type": "code",
   "execution_count": null,
   "id": "f7469545-6c20-4218-b9d0-ebbd2415b7fd",
   "metadata": {},
   "outputs": [],
   "source": [
    "from backend import ImpactsTransportation"
   ]
  },
  {
   "cell_type": "markdown",
   "id": "512164a1-9c45-4869-8d7b-97a756890167",
   "metadata": {},
   "source": [
    "This part of the code loops through each inundation layer and determines transportation access for that layer. \n",
    "\n",
    "<font color='red'>Note that this part of the code takes a while to run. The outputs are provided in this repository, so this cell can be skipped, if desired.</font>"
   ]
  },
  {
   "cell_type": "code",
   "execution_count": null,
   "id": "fef111e6-7951-426e-9440-b75e60ce4ce5",
   "metadata": {},
   "outputs": [],
   "source": [
    "for slr_ft in range(0,11):\n",
    "    print(\"----------------------\")\n",
    "    print(\"SLR: {}\" .format(slr_ft))\n",
    "    te = ImpactsTransportation.transportation_exposure()\n",
    "    te.run_transportation_exposure(\n",
    "                    slr_ft=slr_ft,\n",
    "                    locl_hzrd=True\n",
    "                    )\n",
    "    ta = ImpactsTransportation.transportation_access()\n",
    "    ta.run_transportation_access(slr_ft=slr_ft, runname=\"utmb-hospital\")\n",
    "    ta.run_transportation_access(slr_ft=slr_ft, runname=\"galveston-exit\")\n",
    "    print()\n"
   ]
  },
  {
   "cell_type": "code",
   "execution_count": null,
   "id": "696c287c-d44d-4b7a-a03c-1caaa46b90c6",
   "metadata": {},
   "outputs": [],
   "source": [
    "ta = ImpactsTransportation.transportation_access()\n",
    "ta.combine_trns_access(\"utmb-hospital\")\n",
    "ta.combine_trns_access(\"galveston-exit\")"
   ]
  },
  {
   "attachments": {},
   "cell_type": "markdown",
   "id": "b36d43ea-8b79-490c-8137-58ab1858611f",
   "metadata": {},
   "source": [
    "<a id='step3'></a>\n",
    "## <center> Map Future Water Levels to Impacts of Inundation on Infrastructure </center>\n",
    "\n",
    "The final step of the framework is to map the future water levels from step 1 (temporal) to the impacts of inundation on infrastructure from step 2 (spatial). This step begins by considering the first future water level scenario that was identified in Step 1. The start year is initialized and daily high-water levels for the entire year are determined. For each daily high-water level, the impacts to infrastructure from the SLR impact database are queried. This is done by matching the daily high-water level to the nearest inundation footprint that was used in Step 2. The importance of using the same vertical reference datum is emphasized. This process repeats for each year of the future water level record, and then repeats again for each future water level scenario. Step 3 results in community-wide impacts of SLR on multiple infrastructure systems at the building level. By mapping the future water levels to the inundation footprints, both the timing and spatial extent of future impacts from SLR can be evaluated.\n",
    "\n",
    "<center><img src=\"figures/fig1-step3.png\" width=\"70%\"/></center>\n"
   ]
  },
  {
   "cell_type": "markdown",
   "id": "e92bb3d8-8679-4467-ac9a-07a6716ea413",
   "metadata": {},
   "source": [
    "Importing the backend code to mape the water levels to the impacts to infrastructure"
   ]
  },
  {
   "cell_type": "code",
   "execution_count": null,
   "id": "cd98845b-cabf-4a78-b78b-010b40d6542f",
   "metadata": {},
   "outputs": [],
   "source": [
    "from backend import MapWaterLevelsToImpacts\n",
    "MPW = MapWaterLevelsToImpacts.MapWaterLevels(begindate_str = \"20250101\",\n",
    "                                             enddate_str = \"21001231\", \n",
    "                                             station_id=8771450, \n",
    "                                             nonexceendance_probs=[0.17, 0.5, 0.83], \n",
    "                                             destination_points=[\"utmb-hospital\", \"galveston-exit\"],\n",
    "                                            )"
   ]
  },
  {
   "cell_type": "markdown",
   "id": "056e0416-c73d-42e1-84b3-a9276d7d2b4f",
   "metadata": {},
   "source": [
    "Mapping the water levels to the building, electric, and transportation impacts. The outputs are stored in a subdirectory located as ```output/impacts-time```."
   ]
  },
  {
   "cell_type": "code",
   "execution_count": null,
   "id": "ea637f6b-6286-4cc7-ab75-9910baa0ca81",
   "metadata": {},
   "outputs": [],
   "source": [
    "MPW.map_bldg_impacts()\n",
    "MPW.map_elec_impacts()\n",
    "MPW.map_trns_impacts()"
   ]
  },
  {
   "cell_type": "markdown",
   "id": "b70250b7-49c0-405f-8348-1c6170cbb890",
   "metadata": {},
   "source": [
    "<a id='plotting'></a>\n",
    "## <center> Plotting Results </center>\n",
    "This section of the notebook plots the results of the above analyses. The following are selected to plot spatially:\n",
    "+ A SLR scenario (low, intermediate-low, intermediate, intermediate-high, or high).\n",
    "+ SLR scenario percentile (0.17, 0.5, and 0.83)\n",
    "+ Infrastructure system (buildings, electric, transportation-exit, transportation-hospital)"
   ]
  },
  {
   "cell_type": "code",
   "execution_count": null,
   "id": "756de2a6-7e32-4880-b708-a0a86eacdcee",
   "metadata": {},
   "outputs": [],
   "source": [
    "import pandas as pd\n",
    "import functools\n",
    "import geopandas as gpd\n",
    "import ipywidgets as widgets\n",
    "import os\n",
    "from IPython.display import clear_output"
   ]
  },
  {
   "cell_type": "code",
   "execution_count": null,
   "id": "47e4d6e9-1588-4cc1-bb49-39e53c073de3",
   "metadata": {},
   "outputs": [],
   "source": [
    "path_to_bldg_inv = os.path.join(os.getcwd(), \"backend\", \"infrastructure\", 'bldgs_drs.json')\n",
    "bldgs = gpd.read_file(path_to_bldg_inv)\n",
    "bldgs.to_crs(epsg=4269, inplace=True)\n",
    "bldgs.set_index(\"guid\", inplace=True)"
   ]
  },
  {
   "cell_type": "code",
   "execution_count": null,
   "id": "c26d6503-4fdb-4af0-8153-28ecbdfa4d7e",
   "metadata": {},
   "outputs": [],
   "source": [
    "def generate_map(b, bldgs):\n",
    "    output.clear_output()\n",
    "    # clear_output(wait=True)\n",
    "    inf_output_name = {\"Buildings\": \"nTimesExp\",\n",
    "                       \"Electric\": \"nNoAccess\",\n",
    "                       \"Transportation-Exit\": \"nTTIncrease\",\n",
    "                       \"Transportation-UTMB\": \"nTTIncrease\"\n",
    "                      }\n",
    "    destination_mapping = {\n",
    "                        \"Transportation-Exit\": \"galveston-exit\",\n",
    "                        \"Transportation-UTMB\": \"utmb-hospital\",\n",
    "                    }\n",
    "    with output:\n",
    "        print(slr_scenario_wi.value, percentile_wi.value, year_wi.value)\n",
    "        path_to_file_results = os.path.join(os.getcwd(), \"backend\", \"output\", \"impacts-time\")\n",
    "        if \"Transportation\" in inf_wi.value:\n",
    "            fn = \"{}_years_sc{}_ne{}_{}.csv\" .format(inf_output_name[inf_wi.value], slr_scenario_wi.value, percentile_wi.value, destination_mapping[inf_wi.value])\n",
    "        else:\n",
    "            fn = \"{}_years_sc{}_ne{}.csv\" .format(inf_output_name[inf_wi.value], slr_scenario_wi.value, percentile_wi.value)\n",
    "        fn = os.path.join(path_to_file_results, fn)\n",
    "        df = pd.read_csv(fn)\n",
    "        df.set_index(\"guid\", inplace=True)\n",
    "        bldgs = pd.merge(bldgs[\"geometry\"], df[str(year_wi.value)], left_index=True, right_index=True)\n",
    "        \n",
    "        \n",
    "        display(bldgs.explore(\n",
    "                        column=str(year_wi.value),\n",
    "                        cmap=\"RdYlGn_r\",\n",
    "                        vmin=0,\n",
    "                        vmax=365,\n",
    "                        # tiles=\"CartoDB dark_matter\",\n",
    "                        tiles=\"CartoDB positron\",    \n",
    "                        legend_kwds={\"caption\": \"Days in {}\" .format(year_wi.value)}\n",
    "        ))"
   ]
  },
  {
   "cell_type": "code",
   "execution_count": null,
   "id": "48fa22fa-fa8c-4b72-b703-6b7d0d223ac9",
   "metadata": {},
   "outputs": [],
   "source": [
    "output = widgets.Output()\n",
    "\n",
    "button_wi = widgets.Button(\n",
    "    description='Generate Map',\n",
    "    disabled=False,\n",
    "    button_style='info',\n",
    "    tooltip='Generate Map',\n",
    "    icon='check'\n",
    "    )\n",
    "\n",
    "slr_scenario_wi = widgets.Dropdown(\n",
    "    options=[\"Low\",\"Int-Low\", \"Int\", \"IntHigh\", \"High\"],\n",
    "    value='Int',\n",
    "    description='SLR Scenario:',\n",
    "    disabled=False,\n",
    ")\n",
    "\n",
    "percentile_wi = widgets.Dropdown(\n",
    "    options=[\"0.17\",\"0.5\", \"0.83\"],\n",
    "    value='0.5',\n",
    "    description='Percentile',\n",
    "    disabled=False,\n",
    ")\n",
    "\n",
    "year_wi = widgets.IntSlider(\n",
    "    value=7,\n",
    "    min=2025,\n",
    "    max=2100,\n",
    "    step=1,\n",
    "    description='Year:',\n",
    "    disabled=False,\n",
    "    continuous_update=False,\n",
    "    orientation='horizontal',\n",
    "    readout=True,\n",
    "    readout_format='d'\n",
    ")\n",
    "\n",
    "inf_wi = widgets.Dropdown(\n",
    "    options=[\"Buildings\", \"Electric\", \"Transportation-Exit\", \"Transportation-UTMB\"],\n",
    "    value='Buildings',\n",
    "    description='Infr:',\n",
    "    disabled=False,\n",
    ")\n",
    "sidebyside = widgets.HBox([slr_scenario_wi, percentile_wi, inf_wi])"
   ]
  },
  {
   "cell_type": "markdown",
   "id": "89af6c1c-b7c4-41d7-9294-6d03c85421ea",
   "metadata": {},
   "source": [
    "Creating the map. <br>\n",
    "<font color='red'>Note that sometimes the \"Generate Map\" button needs to be pressed twice for the map to generate. </font>"
   ]
  },
  {
   "cell_type": "code",
   "execution_count": null,
   "id": "29e2b00b-5087-44b8-abb2-a87e33ea6c70",
   "metadata": {},
   "outputs": [],
   "source": [
    "display(sidebyside)\n",
    "display(year_wi)\n",
    "display(button_wi, output)\n",
    "button_wi.on_click(functools.partial(generate_map, bldgs=bldgs))"
   ]
  },
  {
   "attachments": {},
   "cell_type": "markdown",
   "id": "0f013249-bd20-46f7-9713-316baef31f24",
   "metadata": {},
   "source": [
    "## References\n",
    "+ Ruggiero, P., Komar, P., McDougal, W., Marra, J., and Beach, R. (2001). Wave runup, extreme water levels and the erosion of properties backing beach. *Journal of Coastal Research*, 17(2):407-419. https://www.jstor.org/stable/4300192\n",
    "  \n",
    "+ Leijnse, T., van Ormondt, M., Nederhoff, K., and van Dongeren, A. (2021). Modeling compound flooding in coastal systems using a computationally efficient reduced-physics solver: Including fluvial, pluvial, tidal, wind- and wave-driven processes. Coastal Engineering, 163. https://doi.org/10.1016/j.coastaleng.2020.103796\n",
    "  \n",
    "+ Luettich, R., Westerink, J., and Scheffner, N. (1992). ADCIRC: An advanced three-dimensional circulation model for shelves, coasts, and estuaries, Report 1: Theory and Methodology of ADCIRC-2DDI and ADCIRC-3DL. US Army Engineer Waterways Experiment Station, TR DRP-92-6. https://hdl.handle.net/11681/4618\n",
    "  \n",
    "+ National Oceanic and Atmospheric Administration (NOAA) (2017). Detailed Method for Mapping Sea Level Rise Inundation. Office for Coastal Management, NOAA, US Department of Commerce. https://coast.noaa.gov/data/digitalcoast/pdf/slr-inundation-methods.pdf\n",
    "\n",
    "+ Pregnolato, M., Ford, A., Wilkinson, S., and Dawson, R. (2017). The impact of flooding on road transport: A depth-disruption function. Transportation Research Part D, 55:67-81. https://doi.org/10.1016/j.trd.2017.06.020\n",
    " \n",
    "+ Sweet, W., Hamlington, B., Kopp, R., Weaver, C., Barnard, P., Bekaert, D., Brooks, W., Craghan, M., Dusek, G., Frederikse, T., Garner, G., Genz, A., Krasting, J., Larour, E., Marcy, D., Marra, J., Obeysekera, J., Osler, M., Pendleton, M., Roman, D., Schmied, L., Veatch, W., White, K., and Zuzak, C. (2022). Global and regional sea level rise scenarios for the United States: Updated mean projections and extreme water level probabilities along U.S. coastlines. *NOAA Technical Report, NOS 01*. National Oceanic and Atmostpheric Administration, US Department of Commerce. https://oceanservice.noaa.gov/hazards/sealevelrise/noaa-nos-techrpt01-global-regional-SLR-scenarios-US.pdf"
   ]
  }
 ],
 "metadata": {
  "kernelspec": {
   "display_name": "Python 3 (ipykernel)",
   "language": "python",
   "name": "python3"
  },
  "language_info": {
   "codemirror_mode": {
    "name": "ipython",
    "version": 3
   },
   "file_extension": ".py",
   "mimetype": "text/x-python",
   "name": "python",
   "nbconvert_exporter": "python",
   "pygments_lexer": "ipython3",
   "version": "3.12.3"
  }
 },
 "nbformat": 4,
 "nbformat_minor": 5
}
